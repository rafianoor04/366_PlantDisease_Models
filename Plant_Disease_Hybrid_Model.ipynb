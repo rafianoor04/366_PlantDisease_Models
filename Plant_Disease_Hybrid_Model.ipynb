{
 "cells": [
  {
   "cell_type": "code",
   "execution_count": 1,
   "id": "fd21a029",
   "metadata": {
    "execution": {
     "iopub.execute_input": "2025-08-13T04:10:22.024536Z",
     "iopub.status.busy": "2025-08-13T04:10:22.024285Z",
     "iopub.status.idle": "2025-08-13T04:10:34.519451Z",
     "shell.execute_reply": "2025-08-13T04:10:34.518848Z"
    },
    "papermill": {
     "duration": 12.501193,
     "end_time": "2025-08-13T04:10:34.520945",
     "exception": false,
     "start_time": "2025-08-13T04:10:22.019752",
     "status": "completed"
    },
    "tags": []
   },
   "outputs": [],
   "source": [
    "\n",
    "import torch\n",
    "import torch.nn as nn\n",
    "import torch.optim as optim\n",
    "from torch.utils.data import DataLoader, random_split\n",
    "from torchvision import datasets, transforms, models\n",
    "from torchvision.transforms import ToTensor\n",
    "import torch.optim as optim\n",
    "import numpy as np\n",
    "import matplotlib.pyplot as plt\n",
    "from sklearn.metrics import precision_score, recall_score, f1_score\n",
    "import zipfile\n",
    "import os\n",
    "from tqdm import tqdm\n",
    "\n",
    "import kagglehub\n",
    "\n",
    "# --- Added for hybrid classifiers ---\n",
    "from time import perf_counter\n",
    "from sklearn.preprocessing import StandardScaler, label_binarize\n",
    "from sklearn.pipeline import Pipeline\n",
    "from sklearn.metrics import (\n",
    "    accuracy_score, precision_recall_fscore_support,\n",
    "    confusion_matrix, roc_auc_score, roc_curve, classification_report\n",
    ")\n",
    "from sklearn.svm import SVC\n",
    "from sklearn.neighbors import KNeighborsClassifier\n",
    "from sklearn.ensemble import RandomForestClassifier\n",
    "\n",
    "# XGBoost import with fallback install (works in Kaggle)\n",
    "try:\n",
    "    from xgboost import XGBClassifier\n",
    "except Exception as e:\n",
    "    print(\"Installing xgboost...\")\n",
    "    import sys, subprocess\n",
    "    subprocess.check_call([sys.executable, \"-m\", \"pip\", \"install\", \"-q\", \"xgboost\"])\n",
    "    from xgboost import XGBClassifier\n"
   ]
  },
  {
   "cell_type": "code",
   "execution_count": 2,
   "id": "47416e69",
   "metadata": {
    "execution": {
     "iopub.execute_input": "2025-08-13T04:10:34.528171Z",
     "iopub.status.busy": "2025-08-13T04:10:34.527817Z",
     "iopub.status.idle": "2025-08-13T04:10:34.677942Z",
     "shell.execute_reply": "2025-08-13T04:10:34.677056Z"
    },
    "papermill": {
     "duration": 0.155177,
     "end_time": "2025-08-13T04:10:34.679452",
     "exception": false,
     "start_time": "2025-08-13T04:10:34.524275",
     "status": "completed"
    },
    "tags": []
   },
   "outputs": [
    {
     "name": "stdout",
     "output_type": "stream",
     "text": [
      "Path to dataset files: /kaggle/input/plantvillage-dataset\n"
     ]
    }
   ],
   "source": [
    "# Cell-2\n",
    "# Download latest version\n",
    "path = kagglehub.dataset_download(\"abdallahalidev/plantvillage-dataset\")\n",
    "\n",
    "print(\"Path to dataset files:\", path)\n"
   ]
  },
  {
   "cell_type": "code",
   "execution_count": 3,
   "id": "70019648",
   "metadata": {
    "execution": {
     "iopub.execute_input": "2025-08-13T04:10:34.688568Z",
     "iopub.status.busy": "2025-08-13T04:10:34.688344Z",
     "iopub.status.idle": "2025-08-13T04:10:34.691304Z",
     "shell.execute_reply": "2025-08-13T04:10:34.690808Z"
    },
    "papermill": {
     "duration": 0.007498,
     "end_time": "2025-08-13T04:10:34.692242",
     "exception": false,
     "start_time": "2025-08-13T04:10:34.684744",
     "status": "completed"
    },
    "tags": []
   },
   "outputs": [],
   "source": [
    "# Cell-3\n",
    "path = \"/kaggle/input/plantvillage-dataset/color\"\n"
   ]
  },
  {
   "cell_type": "code",
   "execution_count": 4,
   "id": "14baa0e0",
   "metadata": {
    "execution": {
     "iopub.execute_input": "2025-08-13T04:10:34.698464Z",
     "iopub.status.busy": "2025-08-13T04:10:34.698278Z",
     "iopub.status.idle": "2025-08-13T04:12:24.640816Z",
     "shell.execute_reply": "2025-08-13T04:12:24.640036Z"
    },
    "papermill": {
     "duration": 109.947033,
     "end_time": "2025-08-13T04:12:24.642008",
     "exception": false,
     "start_time": "2025-08-13T04:10:34.694975",
     "status": "completed"
    },
    "tags": []
   },
   "outputs": [
    {
     "name": "stdout",
     "output_type": "stream",
     "text": [
      "Apple___Apple_scab: 630 images\n",
      "Apple___Black_rot: 621 images\n",
      "Apple___Cedar_apple_rust: 275 images\n",
      "Apple___healthy: 1645 images\n",
      "Blueberry___healthy: 1502 images\n",
      "Cherry_(including_sour)___Powdery_mildew: 1052 images\n",
      "Cherry_(including_sour)___healthy: 854 images\n",
      "Corn_(maize)___Cercospora_leaf_spot Gray_leaf_spot: 513 images\n",
      "Corn_(maize)___Common_rust_: 1192 images\n",
      "Corn_(maize)___Northern_Leaf_Blight: 985 images\n",
      "Corn_(maize)___healthy: 1162 images\n",
      "Grape___Black_rot: 1180 images\n",
      "Grape___Esca_(Black_Measles): 1383 images\n",
      "Grape___Leaf_blight_(Isariopsis_Leaf_Spot): 1076 images\n",
      "Grape___healthy: 423 images\n",
      "Orange___Haunglongbing_(Citrus_greening): 5507 images\n",
      "Peach___Bacterial_spot: 2297 images\n",
      "Peach___healthy: 360 images\n",
      "Pepper,_bell___Bacterial_spot: 997 images\n",
      "Pepper,_bell___healthy: 1478 images\n",
      "Potato___Early_blight: 1000 images\n",
      "Potato___Late_blight: 1000 images\n",
      "Potato___healthy: 152 images\n",
      "Raspberry___healthy: 371 images\n",
      "Soybean___healthy: 5090 images\n",
      "Squash___Powdery_mildew: 1835 images\n",
      "Strawberry___Leaf_scorch: 1109 images\n",
      "Strawberry___healthy: 456 images\n",
      "Tomato___Bacterial_spot: 2127 images\n",
      "Tomato___Early_blight: 1000 images\n",
      "Tomato___Late_blight: 1909 images\n",
      "Tomato___Leaf_Mold: 952 images\n",
      "Tomato___Septoria_leaf_spot: 1771 images\n",
      "Tomato___Spider_mites Two-spotted_spider_mite: 1676 images\n",
      "Tomato___Target_Spot: 1404 images\n",
      "Tomato___Tomato_Yellow_Leaf_Curl_Virus: 5357 images\n",
      "Tomato___Tomato_mosaic_virus: 373 images\n",
      "Tomato___healthy: 1591 images\n"
     ]
    }
   ],
   "source": [
    "# Cell-4\n",
    "# Loop through each class folder\n",
    "for class_name in sorted(os.listdir(path)):\n",
    "    class_path = os.path.join(path, class_name)\n",
    "    if os.path.isdir(class_path):\n",
    "        # Count only files (ignore subfolders, if any)\n",
    "        image_count = sum(\n",
    "            1 for file in os.listdir(class_path)\n",
    "            if os.path.isfile(os.path.join(class_path, file))\n",
    "        )\n",
    "        print(f\"{class_name}: {image_count} images\")\n"
   ]
  },
  {
   "cell_type": "code",
   "execution_count": 5,
   "id": "e8cddba1",
   "metadata": {
    "execution": {
     "iopub.execute_input": "2025-08-13T04:12:24.651271Z",
     "iopub.status.busy": "2025-08-13T04:12:24.651015Z",
     "iopub.status.idle": "2025-08-13T04:13:13.530737Z",
     "shell.execute_reply": "2025-08-13T04:13:13.529946Z"
    },
    "papermill": {
     "duration": 48.890697,
     "end_time": "2025-08-13T04:13:13.536875",
     "exception": false,
     "start_time": "2025-08-13T04:12:24.646178",
     "status": "completed"
    },
    "tags": []
   },
   "outputs": [
    {
     "name": "stdout",
     "output_type": "stream",
     "text": [
      "Found classes: 38\n",
      "Counts per class: {'Tomato___Late_blight': 1909, 'Tomato___healthy': 1591, 'Grape___healthy': 423, 'Orange___Haunglongbing_(Citrus_greening)': 5507, 'Soybean___healthy': 5090, 'Squash___Powdery_mildew': 1835, 'Potato___healthy': 152, 'Corn_(maize)___Northern_Leaf_Blight': 985, 'Tomato___Early_blight': 1000, 'Tomato___Septoria_leaf_spot': 1771, 'Corn_(maize)___Cercospora_leaf_spot Gray_leaf_spot': 513, 'Strawberry___Leaf_scorch': 1109, 'Peach___healthy': 360, 'Apple___Apple_scab': 630, 'Tomato___Tomato_Yellow_Leaf_Curl_Virus': 5357, 'Tomato___Bacterial_spot': 2127, 'Apple___Black_rot': 621, 'Blueberry___healthy': 1502, 'Cherry_(including_sour)___Powdery_mildew': 1052, 'Peach___Bacterial_spot': 2297, 'Apple___Cedar_apple_rust': 275, 'Tomato___Target_Spot': 1404, 'Pepper,_bell___healthy': 1478, 'Grape___Leaf_blight_(Isariopsis_Leaf_Spot)': 1076, 'Potato___Late_blight': 1000, 'Tomato___Tomato_mosaic_virus': 373, 'Strawberry___healthy': 456, 'Apple___healthy': 1645, 'Grape___Black_rot': 1180, 'Potato___Early_blight': 1000, 'Cherry_(including_sour)___healthy': 854, 'Corn_(maize)___Common_rust_': 1192, 'Grape___Esca_(Black_Measles)': 1383, 'Raspberry___healthy': 371, 'Tomato___Leaf_Mold': 952, 'Tomato___Spider_mites Two-spotted_spider_mite': 1676, 'Pepper,_bell___Bacterial_spot': 997, 'Corn_(maize)___healthy': 1162}\n",
      "\n",
      "Summary\n",
      "---------\n",
      "Kept classes (exactly 350 each): 36\n",
      "  - Tomato___Late_blight: 350\n",
      "  - Tomato___healthy: 350\n",
      "  - Grape___healthy: 350\n",
      "  - Orange___Haunglongbing_(Citrus_greening): 350\n",
      "  - Soybean___healthy: 350\n",
      "  - Squash___Powdery_mildew: 350\n",
      "  - Corn_(maize)___Northern_Leaf_Blight: 350\n",
      "  - Tomato___Early_blight: 350\n",
      "  - Tomato___Septoria_leaf_spot: 350\n",
      "  - Corn_(maize)___Cercospora_leaf_spot Gray_leaf_spot: 350\n",
      "  - Strawberry___Leaf_scorch: 350\n",
      "  - Peach___healthy: 350\n",
      "  - Apple___Apple_scab: 350\n",
      "  - Tomato___Tomato_Yellow_Leaf_Curl_Virus: 350\n",
      "  - Tomato___Bacterial_spot: 350\n",
      "  - Apple___Black_rot: 350\n",
      "  - Blueberry___healthy: 350\n",
      "  - Cherry_(including_sour)___Powdery_mildew: 350\n",
      "  - Peach___Bacterial_spot: 350\n",
      "  - Tomato___Target_Spot: 350\n",
      "  - Pepper,_bell___healthy: 350\n",
      "  - Grape___Leaf_blight_(Isariopsis_Leaf_Spot): 350\n",
      "  - Potato___Late_blight: 350\n",
      "  - Tomato___Tomato_mosaic_virus: 350\n",
      "  - Strawberry___healthy: 350\n",
      "  - Apple___healthy: 350\n",
      "  - Grape___Black_rot: 350\n",
      "  - Potato___Early_blight: 350\n",
      "  - Cherry_(including_sour)___healthy: 350\n",
      "  - Corn_(maize)___Common_rust_: 350\n",
      "  - Grape___Esca_(Black_Measles): 350\n",
      "  - Raspberry___healthy: 350\n",
      "  - Tomato___Leaf_Mold: 350\n",
      "  - Tomato___Spider_mites Two-spotted_spider_mite: 350\n",
      "  - Pepper,_bell___Bacterial_spot: 350\n",
      "  - Corn_(maize)___healthy: 350\n",
      "\n",
      "Skipped classes (< 350 images): 2\n",
      "  - Potato___healthy: 152\n",
      "  - Apple___Cedar_apple_rust: 275\n",
      "\n",
      "Balanced dataset created at: /kaggle/working/plantvillage-balanced\n"
     ]
    }
   ],
   "source": [
    "# Cell-5\n",
    "import os\n",
    "import shutil\n",
    "import random\n",
    "from pathlib import Path\n",
    "\n",
    "# Reproducibility (optional)\n",
    "random.seed(42)\n",
    "\n",
    "# Paths\n",
    "source_dir = '/kaggle/input/plantvillage-dataset/color'\n",
    "dest_dir   = '/kaggle/working/plantvillage-balanced'\n",
    "min_required = 350\n",
    "\n",
    "# Create destination directory\n",
    "os.makedirs(dest_dir, exist_ok=True)\n",
    "\n",
    "# Collect classes and counts\n",
    "class_counts = {}\n",
    "for class_name in os.listdir(source_dir):\n",
    "    class_path = os.path.join(source_dir, class_name)\n",
    "    if os.path.isdir(class_path):\n",
    "        image_files = [f for f in os.listdir(class_path)\n",
    "                       if f.lower().endswith(('.png', '.jpg', '.jpeg'))]\n",
    "        class_counts[class_name] = len(image_files)\n",
    "\n",
    "print(\"Found classes:\", len(class_counts))\n",
    "print(\"Counts per class:\", class_counts)\n",
    "\n",
    "# Build balanced dataset:\n",
    "kept, skipped = [], []\n",
    "for class_name, count in class_counts.items():\n",
    "    src_class_path = os.path.join(source_dir, class_name)\n",
    "    dst_class_path = os.path.join(dest_dir, class_name)\n",
    "\n",
    "    # Skip classes with fewer than 350 images\n",
    "    if count < min_required:\n",
    "        skipped.append((class_name, count))\n",
    "        continue\n",
    "\n",
    "    os.makedirs(dst_class_path, exist_ok=True)\n",
    "\n",
    "    # List image files and sample to exactly 350\n",
    "    image_files = [f for f in os.listdir(src_class_path)\n",
    "                   if f.lower().endswith(('.png', '.jpg', '.jpeg'))]\n",
    "\n",
    "    # If count == 350 this returns all, otherwise a downsample to 350\n",
    "    sampled_files = random.sample(image_files, min_required)\n",
    "\n",
    "    for filename in sampled_files:\n",
    "        src = os.path.join(src_class_path, filename)\n",
    "        dst = os.path.join(dst_class_path, filename)\n",
    "        shutil.copy2(src, dst)\n",
    "\n",
    "    kept.append((class_name, min_required))\n",
    "\n",
    "print(\"\\nSummary\")\n",
    "print(\"---------\")\n",
    "print(f\"Kept classes (exactly {min_required} each): {len(kept)}\")\n",
    "for name, cnt in kept:\n",
    "    print(f\"  - {name}: {cnt}\")\n",
    "\n",
    "print(f\"\\nSkipped classes (< {min_required} images): {len(skipped)}\")\n",
    "for name, cnt in skipped:\n",
    "    print(f\"  - {name}: {cnt}\")\n",
    "\n",
    "print(\"\\nBalanced dataset created at:\", dest_dir)\n"
   ]
  },
  {
   "cell_type": "code",
   "execution_count": 6,
   "id": "c4a7b528",
   "metadata": {
    "execution": {
     "iopub.execute_input": "2025-08-13T04:13:13.545980Z",
     "iopub.status.busy": "2025-08-13T04:13:13.545508Z",
     "iopub.status.idle": "2025-08-13T04:13:13.614276Z",
     "shell.execute_reply": "2025-08-13T04:13:13.613515Z"
    },
    "papermill": {
     "duration": 0.074768,
     "end_time": "2025-08-13T04:13:13.615689",
     "exception": false,
     "start_time": "2025-08-13T04:13:13.540921",
     "status": "completed"
    },
    "tags": []
   },
   "outputs": [],
   "source": [
    "# Cell-6\n",
    "transform_train = transforms.Compose([\n",
    "    transforms.RandomResizedCrop(224),      # Resize and crop for augmentation\n",
    "    transforms.RandomHorizontalFlip(),      # Augmentation\n",
    "    transforms.ToTensor(),\n",
    "    transforms.Normalize((0.5, 0.5, 0.5), (0.5, 0.5, 0.5))\n",
    "])\n",
    "\n",
    "transform_test = transforms.Compose([\n",
    "    transforms.Resize((224, 224)),\n",
    "    transforms.ToTensor(),\n",
    "    transforms.Normalize((0.5, 0.5, 0.5), (0.5, 0.5, 0.5))\n",
    "])\n",
    "\n",
    "# Two mirrored datasets pointing to the same folder, different transforms\n",
    "dataset_train_view = datasets.ImageFolder(root=\"/kaggle/working/plantvillage-balanced\", transform=transform_train)\n",
    "dataset_eval_view  = datasets.ImageFolder(root=\"/kaggle/working/plantvillage-balanced\", transform=transform_test)\n",
    "\n",
    "# Split indices once\n",
    "full_len = len(dataset_train_view)\n",
    "train_size = int(0.7 * full_len)\n",
    "val_size = int(0.2 * full_len)\n",
    "test_size = full_len - train_size - val_size\n",
    "train_subset, val_subset, test_subset = random_split(range(full_len), [train_size, val_size, test_size])\n",
    "\n",
    "# Datasets per view using the same indices\n",
    "class IndexedSubset(torch.utils.data.Dataset):\n",
    "    def __init__(self, base_ds, indices):\n",
    "        self.base_ds = base_ds\n",
    "        self.indices = indices\n",
    "    def __len__(self): return len(self.indices)\n",
    "    def __getitem__(self, i): return self.base_ds[self.indices[i]]\n",
    "\n",
    "train_dataset = IndexedSubset(dataset_train_view, train_subset.indices)\n",
    "val_dataset   = IndexedSubset(dataset_eval_view,  val_subset.indices)\n",
    "test_dataset  = IndexedSubset(dataset_eval_view,  test_subset.indices)\n",
    "\n",
    "train_loader = DataLoader(train_dataset, batch_size=32, shuffle=True)\n",
    "val_loader = DataLoader(val_dataset, batch_size=32, shuffle=False)\n",
    "test_loader = DataLoader(test_dataset, batch_size=32, shuffle=False)\n",
    "\n",
    "class_names = dataset_train_view.classes\n",
    "num_classes = len(class_names)\n"
   ]
  },
  {
   "cell_type": "code",
   "execution_count": 7,
   "id": "07767046",
   "metadata": {
    "execution": {
     "iopub.execute_input": "2025-08-13T04:13:13.624907Z",
     "iopub.status.busy": "2025-08-13T04:13:13.624679Z",
     "iopub.status.idle": "2025-08-13T04:13:13.627926Z",
     "shell.execute_reply": "2025-08-13T04:13:13.627238Z"
    },
    "papermill": {
     "duration": 0.008989,
     "end_time": "2025-08-13T04:13:13.628919",
     "exception": false,
     "start_time": "2025-08-13T04:13:13.619930",
     "status": "completed"
    },
    "tags": []
   },
   "outputs": [],
   "source": [
    "# Cell-7\n",
    "class_names = class_names\n",
    "num_classes = num_classes\n"
   ]
  },
  {
   "cell_type": "code",
   "execution_count": 8,
   "id": "445fc038",
   "metadata": {
    "execution": {
     "iopub.execute_input": "2025-08-13T04:13:13.637867Z",
     "iopub.status.busy": "2025-08-13T04:13:13.637656Z",
     "iopub.status.idle": "2025-08-13T04:13:13.648241Z",
     "shell.execute_reply": "2025-08-13T04:13:13.647528Z"
    },
    "papermill": {
     "duration": 0.016443,
     "end_time": "2025-08-13T04:13:13.649419",
     "exception": false,
     "start_time": "2025-08-13T04:13:13.632976",
     "status": "completed"
    },
    "tags": []
   },
   "outputs": [],
   "source": [
    "# Cell-8\n",
    "import torch\n",
    "import torch.nn as nn\n",
    "import torch.nn.functional as F\n",
    "\n",
    "# --- 2D Self-Attention (Transformer-style on CNN feature maps) ---\n",
    "class SelfAttention2D(nn.Module):\n",
    "\n",
    "    def __init__(self, in_channels, d_model=256, num_heads=4, dropout=0.0):\n",
    "        super().__init__()\n",
    "        self.proj_in  = nn.Conv2d(in_channels, d_model, kernel_size=1)\n",
    "        self.mha      = nn.MultiheadAttention(embed_dim=d_model, num_heads=num_heads,\n",
    "                                              dropout=dropout, batch_first=True)\n",
    "        self.proj_out = nn.Conv2d(d_model, in_channels, kernel_size=1)\n",
    "        self.norm1    = nn.LayerNorm(d_model)\n",
    "        self.norm2    = nn.LayerNorm(d_model)\n",
    "        self.ffn      = nn.Sequential(\n",
    "            nn.Linear(d_model, 4*d_model),\n",
    "            nn.GELU(),\n",
    "            nn.Linear(4*d_model, d_model)\n",
    "        )\n",
    "        self.drop = nn.Dropout(dropout)\n",
    "\n",
    "    def forward(self, x):  # x: [B, C, H, W]\n",
    "        b, c, h, w = x.shape\n",
    "        y = self.proj_in(x)                 # [B, d, H, W]\n",
    "        y = y.flatten(2).transpose(1, 2)    # [B, HW, d]\n",
    "        y = self.norm1(y)\n",
    "        attn_out, _ = self.mha(y, y, y, need_weights=False)  # [B, HW, d]\n",
    "        y = y + self.drop(attn_out)         # Residual 1\n",
    "        y2 = self.ffn(self.norm2(y))\n",
    "        y = y + self.drop(y2)               # Residual 2\n",
    "        y = y.transpose(1, 2).view(b, -1, h, w)  # [B, d, H, W]\n",
    "        y = self.proj_out(y)                # [B, C, H, W]\n",
    "        return x + y                        # Final residual to keep C\n",
    "\n",
    "# --- Example CNN with Self-Attention inserted after Block 3 ---\n",
    "class CustomCNN(nn.Module):\n",
    "    def __init__(self, num_classes):\n",
    "        super().__init__()\n",
    "        self.block1 = nn.Sequential(\n",
    "            nn.Conv2d(3, 32, kernel_size=3, padding=1), nn.BatchNorm2d(32), nn.ReLU(),\n",
    "            nn.MaxPool2d(2)   # 112x112 (for 224x224 input)\n",
    "        )\n",
    "        self.block2 = nn.Sequential(\n",
    "            nn.Conv2d(32, 64, kernel_size=3, padding=1), nn.BatchNorm2d(64), nn.ReLU(),\n",
    "            nn.MaxPool2d(2)   # 56x56\n",
    "        )\n",
    "        self.block3 = nn.Sequential(\n",
    "            nn.Conv2d(64, 128, kernel_size=3, padding=1), nn.BatchNorm2d(128), nn.ReLU(),\n",
    "            nn.MaxPool2d(2)   # 28x28\n",
    "        )\n",
    "\n",
    "        self.attn = SelfAttention2D(in_channels=128, d_model=256, num_heads=4, dropout=0.0)\n",
    "\n",
    "        self.block4 = nn.Sequential(\n",
    "            nn.Conv2d(128, 256, kernel_size=3, padding=1), nn.BatchNorm2d(256), nn.ReLU(),\n",
    "            nn.MaxPool2d(2)   # 14x14\n",
    "        )\n",
    "        # Split head so we can export features\n",
    "        self.gap_flat = nn.Sequential(\n",
    "            nn.AdaptiveAvgPool2d(1),   # [B, 256, 1, 1]\n",
    "            nn.Flatten()               # [B, 256]\n",
    "        )\n",
    "        self.classifier = nn.Sequential(\n",
    "            nn.Dropout(0.2),\n",
    "            nn.Linear(256, num_classes)\n",
    "        )\n",
    "\n",
    "    def forward_features(self, x):\n",
    "        x = self.block1(x)   # [B, 32, 112, 112]\n",
    "        x = self.block2(x)   # [B, 64, 56, 56]\n",
    "        x = self.block3(x)   # [B, 128, 28, 28]\n",
    "        x = self.attn(x)     # << Self-Attention >>\n",
    "        x = self.block4(x)   # [B, 256, 14, 14]\n",
    "        feats = self.gap_flat(x)  # [B, 256]\n",
    "        return feats\n",
    "\n",
    "    def forward(self, x):\n",
    "        feats = self.forward_features(x)     # [B, 256]\n",
    "        x = self.classifier(feats)           # [B, num_classes]\n",
    "        return x\n"
   ]
  },
  {
   "cell_type": "code",
   "execution_count": 9,
   "id": "de09f0ec",
   "metadata": {
    "execution": {
     "iopub.execute_input": "2025-08-13T04:13:13.658127Z",
     "iopub.status.busy": "2025-08-13T04:13:13.657927Z",
     "iopub.status.idle": "2025-08-13T04:13:13.661783Z",
     "shell.execute_reply": "2025-08-13T04:13:13.661301Z"
    },
    "papermill": {
     "duration": 0.009314,
     "end_time": "2025-08-13T04:13:13.662748",
     "exception": false,
     "start_time": "2025-08-13T04:13:13.653434",
     "status": "completed"
    },
    "tags": []
   },
   "outputs": [],
   "source": [
    "# Cell-9\n",
    "class EarlyStopping:\n",
    "\n",
    "    def __init__(self, patience=5):\n",
    "\n",
    "        self.patience = patience\n",
    "        self.counter = 0\n",
    "        self.best_loss = np.inf\n",
    "\n",
    "    def check_early_stop(self, val_loss):\n",
    "        if val_loss < self.best_loss:\n",
    "            self.best_loss = val_loss\n",
    "            self.counter = 0\n",
    "        else:\n",
    "            self.counter += 1\n",
    "            if self.counter >= self.patience:\n",
    "                return True\n",
    "        return False\n"
   ]
  },
  {
   "cell_type": "code",
   "execution_count": 10,
   "id": "ea2af2d7",
   "metadata": {
    "execution": {
     "iopub.execute_input": "2025-08-13T04:13:13.671689Z",
     "iopub.status.busy": "2025-08-13T04:13:13.671478Z",
     "iopub.status.idle": "2025-08-13T04:29:50.584298Z",
     "shell.execute_reply": "2025-08-13T04:29:50.583512Z"
    },
    "papermill": {
     "duration": 996.918527,
     "end_time": "2025-08-13T04:29:50.585392",
     "exception": false,
     "start_time": "2025-08-13T04:13:13.666865",
     "status": "completed"
    },
    "tags": []
   },
   "outputs": [
    {
     "name": "stderr",
     "output_type": "stream",
     "text": [
      "/tmp/ipykernel_19/3243711209.py:22: FutureWarning: `torch.cuda.amp.GradScaler(args...)` is deprecated. Please use `torch.amp.GradScaler('cuda', args...)` instead.\n",
      "  scaler = GradScaler()\n"
     ]
    },
    {
     "name": "stdout",
     "output_type": "stream",
     "text": [
      "Epoch 1/50\n"
     ]
    },
    {
     "name": "stderr",
     "output_type": "stream",
     "text": [
      "Training:   0%|          | 0/276 [00:00<?, ?it/s]/tmp/ipykernel_19/3243711209.py:34: FutureWarning: `torch.cuda.amp.autocast(args...)` is deprecated. Please use `torch.amp.autocast('cuda', args...)` instead.\n",
      "  with autocast(enabled=(device.type=='cuda')):  # Use AMP for mixed-precision on CUDA\n",
      "Validation:   0%|          | 0/79 [00:00<?, ?it/s]/tmp/ipykernel_19/3243711209.py:51: FutureWarning: `torch.cuda.amp.autocast(args...)` is deprecated. Please use `torch.amp.autocast('cuda', args...)` instead.\n",
      "  with autocast(enabled=(device.type=='cuda')):  # Use AMP for mixed-precision on CUDA\n",
      "                                                           \r"
     ]
    },
    {
     "name": "stdout",
     "output_type": "stream",
     "text": [
      "Train Loss: 2.0162, Validation Loss: 1.5120\n",
      "Epoch 2/50\n"
     ]
    },
    {
     "name": "stderr",
     "output_type": "stream",
     "text": [
      "                                                           \r"
     ]
    },
    {
     "name": "stdout",
     "output_type": "stream",
     "text": [
      "Train Loss: 1.1987, Validation Loss: 0.9894\n",
      "Epoch 3/50\n"
     ]
    },
    {
     "name": "stderr",
     "output_type": "stream",
     "text": [
      "                                                           \r"
     ]
    },
    {
     "name": "stdout",
     "output_type": "stream",
     "text": [
      "Train Loss: 0.9451, Validation Loss: 0.7626\n",
      "Epoch 4/50\n"
     ]
    },
    {
     "name": "stderr",
     "output_type": "stream",
     "text": [
      "                                                           \r"
     ]
    },
    {
     "name": "stdout",
     "output_type": "stream",
     "text": [
      "Train Loss: 0.7996, Validation Loss: 0.8385\n",
      "Epoch 5/50\n"
     ]
    },
    {
     "name": "stderr",
     "output_type": "stream",
     "text": [
      "                                                           \r"
     ]
    },
    {
     "name": "stdout",
     "output_type": "stream",
     "text": [
      "Train Loss: 0.7194, Validation Loss: 0.5362\n",
      "Epoch 6/50\n"
     ]
    },
    {
     "name": "stderr",
     "output_type": "stream",
     "text": [
      "                                                           \r"
     ]
    },
    {
     "name": "stdout",
     "output_type": "stream",
     "text": [
      "Train Loss: 0.6589, Validation Loss: 0.5030\n",
      "Epoch 7/50\n"
     ]
    },
    {
     "name": "stderr",
     "output_type": "stream",
     "text": [
      "                                                           \r"
     ]
    },
    {
     "name": "stdout",
     "output_type": "stream",
     "text": [
      "Train Loss: 0.5936, Validation Loss: 0.4640\n",
      "Epoch 8/50\n"
     ]
    },
    {
     "name": "stderr",
     "output_type": "stream",
     "text": [
      "                                                           \r"
     ]
    },
    {
     "name": "stdout",
     "output_type": "stream",
     "text": [
      "Train Loss: 0.5621, Validation Loss: 0.4617\n",
      "Epoch 9/50\n"
     ]
    },
    {
     "name": "stderr",
     "output_type": "stream",
     "text": [
      "                                                           \r"
     ]
    },
    {
     "name": "stdout",
     "output_type": "stream",
     "text": [
      "Train Loss: 0.5588, Validation Loss: 0.4220\n",
      "Epoch 10/50\n"
     ]
    },
    {
     "name": "stderr",
     "output_type": "stream",
     "text": [
      "                                                           \r"
     ]
    },
    {
     "name": "stdout",
     "output_type": "stream",
     "text": [
      "Train Loss: 0.5329, Validation Loss: 0.3498\n",
      "Epoch 11/50\n"
     ]
    },
    {
     "name": "stderr",
     "output_type": "stream",
     "text": [
      "                                                           \r"
     ]
    },
    {
     "name": "stdout",
     "output_type": "stream",
     "text": [
      "Train Loss: 0.4785, Validation Loss: 0.4740\n",
      "Epoch 12/50\n"
     ]
    },
    {
     "name": "stderr",
     "output_type": "stream",
     "text": [
      "                                                           \r"
     ]
    },
    {
     "name": "stdout",
     "output_type": "stream",
     "text": [
      "Train Loss: 0.4717, Validation Loss: 0.3337\n",
      "Epoch 13/50\n"
     ]
    },
    {
     "name": "stderr",
     "output_type": "stream",
     "text": [
      "                                                           \r"
     ]
    },
    {
     "name": "stdout",
     "output_type": "stream",
     "text": [
      "Train Loss: 0.4425, Validation Loss: 0.3278\n",
      "Epoch 14/50\n"
     ]
    },
    {
     "name": "stderr",
     "output_type": "stream",
     "text": [
      "                                                           \r"
     ]
    },
    {
     "name": "stdout",
     "output_type": "stream",
     "text": [
      "Train Loss: 0.4559, Validation Loss: 0.4466\n",
      "Epoch 15/50\n"
     ]
    },
    {
     "name": "stderr",
     "output_type": "stream",
     "text": [
      "                                                           \r"
     ]
    },
    {
     "name": "stdout",
     "output_type": "stream",
     "text": [
      "Train Loss: 0.4321, Validation Loss: 0.3398\n",
      "Epoch 16/50\n"
     ]
    },
    {
     "name": "stderr",
     "output_type": "stream",
     "text": [
      "                                                           \r"
     ]
    },
    {
     "name": "stdout",
     "output_type": "stream",
     "text": [
      "Train Loss: 0.4064, Validation Loss: 0.3397\n",
      "Epoch 17/50\n"
     ]
    },
    {
     "name": "stderr",
     "output_type": "stream",
     "text": [
      "                                                           \r"
     ]
    },
    {
     "name": "stdout",
     "output_type": "stream",
     "text": [
      "Train Loss: 0.4167, Validation Loss: 0.4309\n",
      "Epoch 18/50\n"
     ]
    },
    {
     "name": "stderr",
     "output_type": "stream",
     "text": [
      "                                                           "
     ]
    },
    {
     "name": "stdout",
     "output_type": "stream",
     "text": [
      "Train Loss: 0.3844, Validation Loss: 0.6022\n",
      "Early stopping triggered.\n"
     ]
    },
    {
     "name": "stderr",
     "output_type": "stream",
     "text": [
      "\r"
     ]
    }
   ],
   "source": [
    "# Cell-10\n",
    "from tqdm import tqdm  # Import tqdm for progress bars\n",
    "from torch.cuda.amp import autocast, GradScaler  # Import AMP utilities\n",
    "\n",
    "# Set number of epochs and initialize variables\n",
    "\n",
    "num_epochs = 50  # Define the number of training epochs\n",
    "\n",
    "device = torch.device(\"cuda\" if torch.cuda.is_available() else \"cpu\")\n",
    "\n",
    "model = CustomCNN(num_classes=num_classes).to(device)  # Move model to GPU/CPU\n",
    "\n",
    "criterion = nn.CrossEntropyLoss()  # Loss function\n",
    "\n",
    "optimizer = optim.Adam(model.parameters(), lr=0.001)  # Optimizer with learning rate\n",
    "\n",
    "early_stopping = EarlyStopping(patience=5)  # Initialize early stopping with patience\n",
    "\n",
    "train_losses, val_losses = [], []  # Lists to store training and validation losses per epoch\n",
    "\n",
    "# Initialize GradScaler for AMP\n",
    "scaler = GradScaler()\n",
    "# Loop over epochs\n",
    "for epoch in range(num_epochs):\n",
    "\n",
    "    print(f\"Epoch {epoch+1}/{num_epochs}\")\n",
    "    # Training phase\n",
    "    model.train()  # Set model to training mode\n",
    "    train_loss = 0  # Initialize cumulative training loss for the epoch\n",
    "    # Loop over training data with tqdm progress bar\n",
    "    for images, labels in tqdm(train_loader, desc=\"Training\", leave=False):\n",
    "        images, labels = images.to(device), labels.to(device)  # Move data to device\n",
    "        optimizer.zero_grad()  # Clear previous gradients\n",
    "        with autocast(enabled=(device.type=='cuda')):  # Use AMP for mixed-precision on CUDA\n",
    "            outputs = model(images)  # Forward pass\n",
    "            loss = criterion(outputs, labels)  # Compute loss\n",
    "\n",
    "        # Scale loss to avoid underflow for float16\n",
    "        scaler.scale(loss).backward()  # Backward pass with scaled loss\n",
    "        scaler.step(optimizer)  # Optimizer step\n",
    "        scaler.update()  # Update the scaler for next iteration\n",
    "        train_loss += loss.item()  # Accumulate the training loss\n",
    "\n",
    "    # Validation phase\n",
    "    model.eval()  # Set model to evaluation mode\n",
    "    val_loss = 0  # Initialize cumulative validation loss for the epoch\n",
    "    with torch.no_grad():  # Disable gradient calculation for validation\n",
    "        # Loop over validation data with tqdm progress bar\n",
    "        for images, labels in tqdm(val_loader, desc=\"Validation\", leave=False):\n",
    "            images, labels = images.to(device), labels.to(device)  # Move data to device\n",
    "            with autocast(enabled=(device.type=='cuda')):  # Use AMP for mixed-precision on CUDA\n",
    "                outputs = model(images)  # Forward pass\n",
    "                loss = criterion(outputs, labels)  # Compute loss\n",
    "            val_loss += loss.item()  # Accumulate the validation loss\n",
    "\n",
    "    # Calculate average losses and append to lists\n",
    "    avg_train_loss = train_loss / len(train_loader)\n",
    "    avg_val_loss = val_loss / len(val_loader)\n",
    "    train_losses.append(avg_train_loss)\n",
    "    val_losses.append(avg_val_loss)\n",
    "\n",
    "    print(f\"Train Loss: {avg_train_loss:.4f}, Validation Loss: {avg_val_loss:.4f}\")\n",
    "\n",
    "    # Early stopping check\n",
    "    if early_stopping.check_early_stop(avg_val_loss):\n",
    "        print(\"Early stopping triggered.\")\n",
    "        break\n"
   ]
  },
  {
   "cell_type": "code",
   "execution_count": 11,
   "id": "49482f19",
   "metadata": {
    "execution": {
     "iopub.execute_input": "2025-08-13T04:29:51.051285Z",
     "iopub.status.busy": "2025-08-13T04:29:51.050485Z",
     "iopub.status.idle": "2025-08-13T04:29:51.067729Z",
     "shell.execute_reply": "2025-08-13T04:29:51.067092Z"
    },
    "papermill": {
     "duration": 0.252984,
     "end_time": "2025-08-13T04:29:51.068848",
     "exception": false,
     "start_time": "2025-08-13T04:29:50.815864",
     "status": "completed"
    },
    "tags": []
   },
   "outputs": [
    {
     "name": "stdout",
     "output_type": "stream",
     "text": [
      "Model saved to custom_cnn_model.pth\n"
     ]
    }
   ],
   "source": [
    "# Cell-11\n",
    "# Define a path for saving the model\n",
    "model_save_path = \"custom_cnn_model.pth\"  # You can specify a different path or filename\n",
    "\n",
    "# Save the model after training completes or early stopping is triggered\n",
    "torch.save(model.state_dict(), model_save_path)\n",
    "\n",
    "print(f\"Model saved to {model_save_path}\")\n"
   ]
  },
  {
   "cell_type": "code",
   "execution_count": 12,
   "id": "fbec1469",
   "metadata": {
    "execution": {
     "iopub.execute_input": "2025-08-13T04:29:51.581415Z",
     "iopub.status.busy": "2025-08-13T04:29:51.580921Z",
     "iopub.status.idle": "2025-08-13T04:30:32.131672Z",
     "shell.execute_reply": "2025-08-13T04:30:32.130848Z"
    },
    "papermill": {
     "duration": 40.873387,
     "end_time": "2025-08-13T04:30:32.170514",
     "exception": false,
     "start_time": "2025-08-13T04:29:51.297127",
     "status": "completed"
    },
    "tags": []
   },
   "outputs": [
    {
     "name": "stderr",
     "output_type": "stream",
     "text": [
      "                                                                 "
     ]
    },
    {
     "name": "stdout",
     "output_type": "stream",
     "text": [
      "(8820, 256) (2520, 256) (1260, 256)\n"
     ]
    },
    {
     "name": "stderr",
     "output_type": "stream",
     "text": [
      "\r"
     ]
    }
   ],
   "source": [
    "# Cell-11A\n",
    "# Extract 256-D features from the trained CNN\n",
    "model.eval()\n",
    "def extract_features(dloader):\n",
    "    X, y = [], []\n",
    "    with torch.no_grad():\n",
    "        for images, labels in tqdm(dloader, desc=\"Extracting feats\", leave=False):\n",
    "            images = images.to(device)\n",
    "            feats = model.forward_features(images)          # [B, 256]\n",
    "            X.append(feats.cpu().numpy())\n",
    "            y.append(labels.numpy())\n",
    "    return np.vstack(X), np.concatenate(y)\n",
    "\n",
    "X_train, y_train = extract_features(train_loader)\n",
    "X_val,   y_val   = extract_features(val_loader)\n",
    "X_test,  y_test  = extract_features(test_loader)\n",
    "\n",
    "print(X_train.shape, X_val.shape, X_test.shape)  # expect (*, 256)\n"
   ]
  },
  {
   "cell_type": "code",
   "execution_count": 13,
   "id": "34c22181",
   "metadata": {
    "execution": {
     "iopub.execute_input": "2025-08-13T04:30:32.653983Z",
     "iopub.status.busy": "2025-08-13T04:30:32.653294Z",
     "iopub.status.idle": "2025-08-13T04:30:32.664653Z",
     "shell.execute_reply": "2025-08-13T04:30:32.663943Z"
    },
    "papermill": {
     "duration": 0.254314,
     "end_time": "2025-08-13T04:30:32.665830",
     "exception": false,
     "start_time": "2025-08-13T04:30:32.411516",
     "status": "completed"
    },
    "tags": []
   },
   "outputs": [],
   "source": [
    "# Cell-11B\n",
    "# Binarize labels for ROC/AUC (OvR)\n",
    "classes = list(range(num_classes))\n",
    "Y_train_ovr = label_binarize(y_train, classes=classes)\n",
    "Y_val_ovr   = label_binarize(y_val,   classes=classes)\n",
    "Y_test_ovr  = label_binarize(y_test,  classes=classes)\n"
   ]
  },
  {
   "cell_type": "code",
   "execution_count": 14,
   "id": "f157a08a",
   "metadata": {
    "execution": {
     "iopub.execute_input": "2025-08-13T04:30:33.216776Z",
     "iopub.status.busy": "2025-08-13T04:30:33.216400Z",
     "iopub.status.idle": "2025-08-13T04:30:37.083624Z",
     "shell.execute_reply": "2025-08-13T04:30:37.082832Z"
    },
    "papermill": {
     "duration": 4.181154,
     "end_time": "2025-08-13T04:30:37.084971",
     "exception": false,
     "start_time": "2025-08-13T04:30:32.903817",
     "status": "completed"
    },
    "tags": []
   },
   "outputs": [
    {
     "name": "stdout",
     "output_type": "stream",
     "text": [
      "Baseline CNN — Test Classification Report:\n",
      "                                                     precision    recall  f1-score   support\n",
      "\n",
      "                                Apple___Apple_scab     1.0000    0.5000    0.6667        36\n",
      "                                 Apple___Black_rot     0.9231    0.9730    0.9474        37\n",
      "                                   Apple___healthy     0.9714    0.7727    0.8608        44\n",
      "                               Blueberry___healthy     0.6735    1.0000    0.8049        33\n",
      "          Cherry_(including_sour)___Powdery_mildew     0.9714    0.7907    0.8718        43\n",
      "                 Cherry_(including_sour)___healthy     0.8222    1.0000    0.9024        37\n",
      "Corn_(maize)___Cercospora_leaf_spot Gray_leaf_spot     0.8947    0.9714    0.9315        35\n",
      "                       Corn_(maize)___Common_rust_     0.9677    0.9677    0.9677        31\n",
      "               Corn_(maize)___Northern_Leaf_Blight     1.0000    0.8857    0.9394        35\n",
      "                            Corn_(maize)___healthy     1.0000    0.9355    0.9667        31\n",
      "                                 Grape___Black_rot     1.0000    0.7941    0.8852        34\n",
      "                      Grape___Esca_(Black_Measles)     0.8095    1.0000    0.8947        34\n",
      "        Grape___Leaf_blight_(Isariopsis_Leaf_Spot)     0.9259    1.0000    0.9615        25\n",
      "                                   Grape___healthy     0.9583    0.7188    0.8214        32\n",
      "          Orange___Haunglongbing_(Citrus_greening)     1.0000    0.6389    0.7797        36\n",
      "                            Peach___Bacterial_spot     0.9355    0.6905    0.7945        42\n",
      "                                   Peach___healthy     1.0000    0.8919    0.9429        37\n",
      "                     Pepper,_bell___Bacterial_spot     0.5957    0.8750    0.7089        32\n",
      "                            Pepper,_bell___healthy     0.7073    0.8788    0.7838        33\n",
      "                             Potato___Early_blight     1.0000    0.6333    0.7755        30\n",
      "                              Potato___Late_blight     1.0000    0.5000    0.6667        30\n",
      "                               Raspberry___healthy     1.0000    0.8974    0.9459        39\n",
      "                                 Soybean___healthy     0.9000    0.9474    0.9231        38\n",
      "                           Squash___Powdery_mildew     1.0000    0.8889    0.9412        45\n",
      "                          Strawberry___Leaf_scorch     1.0000    0.8929    0.9434        28\n",
      "                              Strawberry___healthy     1.0000    0.6579    0.7937        38\n",
      "                           Tomato___Bacterial_spot     0.8298    1.0000    0.9070        39\n",
      "                             Tomato___Early_blight     0.8800    0.6875    0.7719        32\n",
      "                              Tomato___Late_blight     0.6667    0.8000    0.7273        30\n",
      "                                Tomato___Leaf_Mold     0.3441    1.0000    0.5120        32\n",
      "                       Tomato___Septoria_leaf_spot     0.4638    0.9143    0.6154        35\n",
      "     Tomato___Spider_mites Two-spotted_spider_mite     0.5263    0.3571    0.4255        28\n",
      "                              Tomato___Target_Spot     0.8889    0.4000    0.5517        40\n",
      "            Tomato___Tomato_Yellow_Leaf_Curl_Virus     0.7708    0.8810    0.8222        42\n",
      "                      Tomato___Tomato_mosaic_virus     0.9062    1.0000    0.9508        29\n",
      "                                  Tomato___healthy     1.0000    0.7632    0.8657        38\n",
      "\n",
      "                                          accuracy                         0.8190      1260\n",
      "                                         macro avg     0.8704    0.8196    0.8214      1260\n",
      "                                      weighted avg     0.8759    0.8190    0.8242      1260\n",
      "\n"
     ]
    }
   ],
   "source": [
    "# Cell-12\n",
    "# Baseline CNN — Test Classification Report\n",
    "all_preds = []\n",
    "all_labels = []\n",
    "\n",
    "model.eval()\n",
    "with torch.no_grad():\n",
    "    for images, labels in test_loader:\n",
    "        images = images.to(device)\n",
    "        outputs = model(images)\n",
    "        preds = outputs.argmax(dim=1).cpu().numpy()\n",
    "        all_preds.extend(preds)\n",
    "        all_labels.extend(labels.numpy())\n",
    "\n",
    "print(\"Baseline CNN — Test Classification Report:\\n\",\n",
    "      classification_report(all_labels, all_preds, digits=4, target_names=class_names))\n"
   ]
  },
  {
   "cell_type": "code",
   "execution_count": 15,
   "id": "e47e26dd",
   "metadata": {
    "execution": {
     "iopub.execute_input": "2025-08-13T04:30:37.565326Z",
     "iopub.status.busy": "2025-08-13T04:30:37.564369Z",
     "iopub.status.idle": "2025-08-13T04:33:55.156135Z",
     "shell.execute_reply": "2025-08-13T04:33:55.155366Z"
    },
    "papermill": {
     "duration": 198.073344,
     "end_time": "2025-08-13T04:33:55.398326",
     "exception": false,
     "start_time": "2025-08-13T04:30:37.324982",
     "status": "completed"
    },
    "tags": []
   },
   "outputs": [
    {
     "name": "stdout",
     "output_type": "stream",
     "text": [
      "\n",
      "=== SVM (RBF) ===\n",
      "Train time: 13.515s | Test time: 1.388s\n",
      "Accuracy: 0.9667\n",
      "Macro Precision/Recall/F1: 0.9681/0.9687/0.9677\n",
      "Micro Precision/Recall/F1: 0.9667/0.9667/0.9667\n",
      "Per-class Precision/Recall/F1:\n",
      "         Apple___Apple_scab: P=0.9714 R=0.9444 F1=0.9577\n",
      "          Apple___Black_rot: P=1.0000 R=1.0000 F1=1.0000\n",
      "            Apple___healthy: P=0.9744 R=0.8636 F1=0.9157\n",
      "        Blueberry___healthy: P=0.8649 R=0.9697 F1=0.9143\n",
      "  Cherry_(including_sour)___Powdery_mildew: P=0.9750 R=0.9070 F1=0.9398\n",
      "  Cherry_(including_sour)___healthy: P=0.9737 R=1.0000 F1=0.9867\n",
      "  Corn_(maize)___Cercospora_leaf_spot Gray_leaf_spot: P=0.9722 R=1.0000 F1=0.9859\n",
      "  Corn_(maize)___Common_rust_: P=1.0000 R=0.9677 F1=0.9836\n",
      "  Corn_(maize)___Northern_Leaf_Blight: P=1.0000 R=0.9714 F1=0.9855\n",
      "     Corn_(maize)___healthy: P=1.0000 R=1.0000 F1=1.0000\n",
      "          Grape___Black_rot: P=0.9429 R=0.9706 F1=0.9565\n",
      "  Grape___Esca_(Black_Measles): P=0.9706 R=0.9706 F1=0.9706\n",
      "  Grape___Leaf_blight_(Isariopsis_Leaf_Spot): P=1.0000 R=1.0000 F1=1.0000\n",
      "            Grape___healthy: P=1.0000 R=1.0000 F1=1.0000\n",
      "  Orange___Haunglongbing_(Citrus_greening): P=0.9677 R=0.8333 F1=0.8955\n",
      "     Peach___Bacterial_spot: P=0.8913 R=0.9762 F1=0.9318\n",
      "            Peach___healthy: P=1.0000 R=1.0000 F1=1.0000\n",
      "  Pepper,_bell___Bacterial_spot: P=0.9375 R=0.9375 F1=0.9375\n",
      "     Pepper,_bell___healthy: P=0.9143 R=0.9697 F1=0.9412\n",
      "      Potato___Early_blight: P=0.9677 R=1.0000 F1=0.9836\n",
      "       Potato___Late_blight: P=0.9355 R=0.9667 F1=0.9508\n",
      "        Raspberry___healthy: P=0.9750 R=1.0000 F1=0.9873\n",
      "          Soybean___healthy: P=1.0000 R=0.9474 F1=0.9730\n",
      "    Squash___Powdery_mildew: P=1.0000 R=0.9556 F1=0.9773\n",
      "   Strawberry___Leaf_scorch: P=1.0000 R=1.0000 F1=1.0000\n",
      "       Strawberry___healthy: P=1.0000 R=0.9737 F1=0.9867\n",
      "    Tomato___Bacterial_spot: P=0.9487 R=0.9487 F1=0.9487\n",
      "      Tomato___Early_blight: P=0.9355 R=0.9062 F1=0.9206\n",
      "       Tomato___Late_blight: P=0.9091 R=1.0000 F1=0.9524\n",
      "         Tomato___Leaf_Mold: P=1.0000 R=1.0000 F1=1.0000\n",
      "  Tomato___Septoria_leaf_spot: P=0.9706 R=0.9429 F1=0.9565\n",
      "  Tomato___Spider_mites Two-spotted_spider_mite: P=0.9655 R=1.0000 F1=0.9825\n",
      "       Tomato___Target_Spot: P=0.9750 R=0.9750 F1=0.9750\n",
      "  Tomato___Tomato_Yellow_Leaf_Curl_Virus: P=0.9130 R=1.0000 F1=0.9545\n",
      "  Tomato___Tomato_mosaic_virus: P=1.0000 R=1.0000 F1=1.0000\n",
      "           Tomato___healthy: P=1.0000 R=0.9737 F1=0.9867\n",
      "Confusion Matrix:\n",
      " [[34  0  0 ...  0  0  0]\n",
      " [ 0 37  0 ...  0  0  0]\n",
      " [ 1  0 38 ...  0  0  0]\n",
      " ...\n",
      " [ 0  0  0 ... 42  0  0]\n",
      " [ 0  0  0 ...  0 29  0]\n",
      " [ 0  0  0 ...  0  0 37]]\n",
      "\n",
      "=== k-NN ===\n",
      "Train time: 0.037s | Test time: 0.140s\n",
      "Accuracy: 0.9698\n",
      "Macro Precision/Recall/F1: 0.9700/0.9707/0.9698\n",
      "Micro Precision/Recall/F1: 0.9698/0.9698/0.9698\n",
      "Per-class Precision/Recall/F1:\n",
      "         Apple___Apple_scab: P=0.9714 R=0.9444 F1=0.9577\n",
      "          Apple___Black_rot: P=1.0000 R=1.0000 F1=1.0000\n",
      "            Apple___healthy: P=0.9756 R=0.9091 F1=0.9412\n",
      "        Blueberry___healthy: P=0.8889 R=0.9697 F1=0.9275\n",
      "  Cherry_(including_sour)___Powdery_mildew: P=1.0000 R=0.9535 F1=0.9762\n",
      "  Cherry_(including_sour)___healthy: P=0.9737 R=1.0000 F1=0.9867\n",
      "  Corn_(maize)___Cercospora_leaf_spot Gray_leaf_spot: P=0.9714 R=0.9714 F1=0.9714\n",
      "  Corn_(maize)___Common_rust_: P=1.0000 R=1.0000 F1=1.0000\n",
      "  Corn_(maize)___Northern_Leaf_Blight: P=0.9714 R=0.9714 F1=0.9714\n",
      "     Corn_(maize)___healthy: P=0.9688 R=1.0000 F1=0.9841\n",
      "          Grape___Black_rot: P=0.9429 R=0.9706 F1=0.9565\n",
      "  Grape___Esca_(Black_Measles): P=0.9697 R=0.9412 F1=0.9552\n",
      "  Grape___Leaf_blight_(Isariopsis_Leaf_Spot): P=1.0000 R=1.0000 F1=1.0000\n",
      "            Grape___healthy: P=0.9697 R=1.0000 F1=0.9846\n",
      "  Orange___Haunglongbing_(Citrus_greening): P=0.9688 R=0.8611 F1=0.9118\n",
      "     Peach___Bacterial_spot: P=0.9545 R=1.0000 F1=0.9767\n",
      "            Peach___healthy: P=1.0000 R=1.0000 F1=1.0000\n",
      "  Pepper,_bell___Bacterial_spot: P=1.0000 R=0.9375 F1=0.9677\n",
      "     Pepper,_bell___healthy: P=0.9355 R=0.8788 F1=0.9062\n",
      "      Potato___Early_blight: P=0.9677 R=1.0000 F1=0.9836\n",
      "       Potato___Late_blight: P=0.9667 R=0.9667 F1=0.9667\n",
      "        Raspberry___healthy: P=0.9750 R=1.0000 F1=0.9873\n",
      "          Soybean___healthy: P=0.9730 R=0.9474 F1=0.9600\n",
      "    Squash___Powdery_mildew: P=1.0000 R=1.0000 F1=1.0000\n",
      "   Strawberry___Leaf_scorch: P=1.0000 R=1.0000 F1=1.0000\n",
      "       Strawberry___healthy: P=1.0000 R=0.9737 F1=0.9867\n",
      "    Tomato___Bacterial_spot: P=1.0000 R=0.9744 F1=0.9870\n",
      "      Tomato___Early_blight: P=0.9688 R=0.9688 F1=0.9688\n",
      "       Tomato___Late_blight: P=0.9032 R=0.9333 F1=0.9180\n",
      "         Tomato___Leaf_Mold: P=1.0000 R=1.0000 F1=1.0000\n",
      "  Tomato___Septoria_leaf_spot: P=1.0000 R=0.9714 F1=0.9855\n",
      "  Tomato___Spider_mites Two-spotted_spider_mite: P=0.8750 R=1.0000 F1=0.9333\n",
      "       Tomato___Target_Spot: P=0.9500 R=0.9500 F1=0.9500\n",
      "  Tomato___Tomato_Yellow_Leaf_Curl_Virus: P=0.9111 R=0.9762 F1=0.9425\n",
      "  Tomato___Tomato_mosaic_virus: P=0.9667 R=1.0000 F1=0.9831\n",
      "           Tomato___healthy: P=1.0000 R=0.9737 F1=0.9867\n",
      "Confusion Matrix:\n",
      " [[34  0  0 ...  0  0  0]\n",
      " [ 0 37  0 ...  0  0  0]\n",
      " [ 0  0 40 ...  0  0  0]\n",
      " ...\n",
      " [ 0  0  0 ... 41  0  0]\n",
      " [ 0  0  0 ...  0 29  0]\n",
      " [ 0  0  0 ...  0  0 37]]\n",
      "\n",
      "=== RandomForest ===\n",
      "Train time: 12.924s | Test time: 0.137s\n",
      "Accuracy: 0.9635\n",
      "Macro Precision/Recall/F1: 0.9648/0.9645/0.9636\n",
      "Micro Precision/Recall/F1: 0.9635/0.9635/0.9635\n",
      "Per-class Precision/Recall/F1:\n",
      "         Apple___Apple_scab: P=1.0000 R=0.9167 F1=0.9565\n",
      "          Apple___Black_rot: P=1.0000 R=1.0000 F1=1.0000\n",
      "            Apple___healthy: P=0.9756 R=0.9091 F1=0.9412\n",
      "        Blueberry___healthy: P=0.8889 R=0.9697 F1=0.9275\n",
      "  Cherry_(including_sour)___Powdery_mildew: P=0.9756 R=0.9302 F1=0.9524\n",
      "  Cherry_(including_sour)___healthy: P=0.9737 R=1.0000 F1=0.9867\n",
      "  Corn_(maize)___Cercospora_leaf_spot Gray_leaf_spot: P=0.9189 R=0.9714 F1=0.9444\n",
      "  Corn_(maize)___Common_rust_: P=0.9677 R=0.9677 F1=0.9677\n",
      "  Corn_(maize)___Northern_Leaf_Blight: P=0.9697 R=0.9143 F1=0.9412\n",
      "     Corn_(maize)___healthy: P=1.0000 R=0.9355 F1=0.9667\n",
      "          Grape___Black_rot: P=0.9714 R=1.0000 F1=0.9855\n",
      "  Grape___Esca_(Black_Measles): P=1.0000 R=0.9706 F1=0.9851\n",
      "  Grape___Leaf_blight_(Isariopsis_Leaf_Spot): P=0.9615 R=1.0000 F1=0.9804\n",
      "            Grape___healthy: P=1.0000 R=1.0000 F1=1.0000\n",
      "  Orange___Haunglongbing_(Citrus_greening): P=0.9655 R=0.7778 F1=0.8615\n",
      "     Peach___Bacterial_spot: P=0.8913 R=0.9762 F1=0.9318\n",
      "            Peach___healthy: P=1.0000 R=1.0000 F1=1.0000\n",
      "  Pepper,_bell___Bacterial_spot: P=1.0000 R=0.9375 F1=0.9677\n",
      "     Pepper,_bell___healthy: P=0.9167 R=1.0000 F1=0.9565\n",
      "      Potato___Early_blight: P=0.9677 R=1.0000 F1=0.9836\n",
      "       Potato___Late_blight: P=0.9355 R=0.9667 F1=0.9508\n",
      "        Raspberry___healthy: P=1.0000 R=1.0000 F1=1.0000\n",
      "          Soybean___healthy: P=1.0000 R=0.9474 F1=0.9730\n",
      "    Squash___Powdery_mildew: P=1.0000 R=0.9778 F1=0.9888\n",
      "   Strawberry___Leaf_scorch: P=1.0000 R=0.9643 F1=0.9818\n",
      "       Strawberry___healthy: P=1.0000 R=0.9737 F1=0.9867\n",
      "    Tomato___Bacterial_spot: P=0.9250 R=0.9487 F1=0.9367\n",
      "      Tomato___Early_blight: P=0.9655 R=0.8750 F1=0.9180\n",
      "       Tomato___Late_blight: P=0.8824 R=1.0000 F1=0.9375\n",
      "         Tomato___Leaf_Mold: P=0.9412 R=1.0000 F1=0.9697\n",
      "  Tomato___Septoria_leaf_spot: P=0.9706 R=0.9429 F1=0.9565\n",
      "  Tomato___Spider_mites Two-spotted_spider_mite: P=0.9333 R=1.0000 F1=0.9655\n",
      "       Tomato___Target_Spot: P=0.9750 R=0.9750 F1=0.9750\n",
      "  Tomato___Tomato_Yellow_Leaf_Curl_Virus: P=0.8936 R=1.0000 F1=0.9438\n",
      "  Tomato___Tomato_mosaic_virus: P=0.9667 R=1.0000 F1=0.9831\n",
      "           Tomato___healthy: P=1.0000 R=0.9737 F1=0.9867\n",
      "Confusion Matrix:\n",
      " [[33  0  0 ...  0  0  0]\n",
      " [ 0 37  0 ...  0  0  0]\n",
      " [ 0  0 40 ...  0  0  0]\n",
      " ...\n",
      " [ 0  0  0 ... 42  0  0]\n",
      " [ 0  0  0 ...  0 29  0]\n",
      " [ 0  0  0 ...  0  0 37]]\n",
      "\n",
      "=== XGBoost ===\n",
      "Train time: 169.284s | Test time: 0.133s\n",
      "Accuracy: 0.9579\n",
      "Macro Precision/Recall/F1: 0.9584/0.9593/0.9580\n",
      "Micro Precision/Recall/F1: 0.9579/0.9579/0.9579\n",
      "Per-class Precision/Recall/F1:\n",
      "         Apple___Apple_scab: P=1.0000 R=0.8889 F1=0.9412\n",
      "          Apple___Black_rot: P=0.9730 R=0.9730 F1=0.9730\n",
      "            Apple___healthy: P=0.9756 R=0.9091 F1=0.9412\n",
      "        Blueberry___healthy: P=0.8889 R=0.9697 F1=0.9275\n",
      "  Cherry_(including_sour)___Powdery_mildew: P=0.9750 R=0.9070 F1=0.9398\n",
      "  Cherry_(including_sour)___healthy: P=0.9737 R=1.0000 F1=0.9867\n",
      "  Corn_(maize)___Cercospora_leaf_spot Gray_leaf_spot: P=0.8947 R=0.9714 F1=0.9315\n",
      "  Corn_(maize)___Common_rust_: P=0.9677 R=0.9677 F1=0.9677\n",
      "  Corn_(maize)___Northern_Leaf_Blight: P=0.9688 R=0.8857 F1=0.9254\n",
      "     Corn_(maize)___healthy: P=1.0000 R=0.9677 F1=0.9836\n",
      "          Grape___Black_rot: P=0.9189 R=1.0000 F1=0.9577\n",
      "  Grape___Esca_(Black_Measles): P=1.0000 R=0.9706 F1=0.9851\n",
      "  Grape___Leaf_blight_(Isariopsis_Leaf_Spot): P=0.9259 R=1.0000 F1=0.9615\n",
      "            Grape___healthy: P=0.9688 R=0.9688 F1=0.9688\n",
      "  Orange___Haunglongbing_(Citrus_greening): P=0.9688 R=0.8611 F1=0.9118\n",
      "     Peach___Bacterial_spot: P=0.8723 R=0.9762 F1=0.9213\n",
      "            Peach___healthy: P=1.0000 R=0.9730 F1=0.9863\n",
      "  Pepper,_bell___Bacterial_spot: P=0.9091 R=0.9375 F1=0.9231\n",
      "     Pepper,_bell___healthy: P=0.9167 R=1.0000 F1=0.9565\n",
      "      Potato___Early_blight: P=0.9677 R=1.0000 F1=0.9836\n",
      "       Potato___Late_blight: P=0.9355 R=0.9667 F1=0.9508\n",
      "        Raspberry___healthy: P=1.0000 R=0.9744 F1=0.9870\n",
      "          Soybean___healthy: P=1.0000 R=0.9211 F1=0.9589\n",
      "    Squash___Powdery_mildew: P=1.0000 R=0.9556 F1=0.9773\n",
      "   Strawberry___Leaf_scorch: P=0.9643 R=0.9643 F1=0.9643\n",
      "       Strawberry___healthy: P=1.0000 R=0.9737 F1=0.9867\n",
      "    Tomato___Bacterial_spot: P=0.9487 R=0.9487 F1=0.9487\n",
      "      Tomato___Early_blight: P=0.9333 R=0.8750 F1=0.9032\n",
      "       Tomato___Late_blight: P=0.8824 R=1.0000 F1=0.9375\n",
      "         Tomato___Leaf_Mold: P=0.9697 R=1.0000 F1=0.9846\n",
      "  Tomato___Septoria_leaf_spot: P=0.9429 R=0.9429 F1=0.9429\n",
      "  Tomato___Spider_mites Two-spotted_spider_mite: P=0.9310 R=0.9643 F1=0.9474\n",
      "       Tomato___Target_Spot: P=0.9512 R=0.9750 F1=0.9630\n",
      "  Tomato___Tomato_Yellow_Leaf_Curl_Virus: P=0.9767 R=1.0000 F1=0.9882\n",
      "  Tomato___Tomato_mosaic_virus: P=1.0000 R=1.0000 F1=1.0000\n",
      "           Tomato___healthy: P=1.0000 R=0.9474 F1=0.9730\n",
      "Confusion Matrix:\n",
      " [[32  1  0 ...  0  0  0]\n",
      " [ 0 36  0 ...  0  0  0]\n",
      " [ 0  0 40 ...  0  0  0]\n",
      " ...\n",
      " [ 0  0  0 ... 42  0  0]\n",
      " [ 0  0  0 ...  0 29  0]\n",
      " [ 0  0  0 ...  0  0 36]]\n"
     ]
    }
   ],
   "source": [
    "# Cell-12A\n",
    "def evaluate_classifier(name, clf, X_tr, y_tr, X_te, y_te):\n",
    "    t0 = perf_counter(); clf.fit(X_tr, y_tr); t_fit = perf_counter() - t0\n",
    "    t1 = perf_counter(); y_pred = clf.predict(X_te); t_pred = perf_counter() - t1\n",
    "\n",
    "    acc = accuracy_score(y_te, y_pred)\n",
    "    prec, rec, f1, _ = precision_recall_fscore_support(y_te, y_pred, labels=range(num_classes), average=None, zero_division=0)\n",
    "    macro_p, macro_r, macro_f1, _ = precision_recall_fscore_support(y_te, y_pred, average='macro', zero_division=0)\n",
    "    micro_p, micro_r, micro_f1, _ = precision_recall_fscore_support(y_te, y_pred, average='micro', zero_division=0)\n",
    "    cm = confusion_matrix(y_te, y_pred, labels=range(num_classes))\n",
    "\n",
    "    print(f\"\\n=== {name} ===\")\n",
    "    print(f\"Train time: {t_fit:.3f}s | Test time: {t_pred:.3f}s\")\n",
    "    print(f\"Accuracy: {acc:.4f}\")\n",
    "    print(f\"Macro Precision/Recall/F1: {macro_p:.4f}/{macro_r:.4f}/{macro_f1:.4f}\")\n",
    "    print(f\"Micro Precision/Recall/F1: {micro_p:.4f}/{micro_r:.4f}/{micro_f1:.4f}\")\n",
    "    print(\"Per-class Precision/Recall/F1:\")\n",
    "    for i, cls in enumerate(class_names):\n",
    "        print(f\"  {cls:>25s}: P={prec[i]:.4f} R={rec[i]:.4f} F1={f1[i]:.4f}\")\n",
    "    print(\"Confusion Matrix:\\n\", cm)\n",
    "    return y_pred\n",
    "\n",
    "# Pipelines\n",
    "svm_clf = Pipeline([\n",
    "    (\"scaler\", StandardScaler()),\n",
    "    (\"svc\", SVC(C=1.0, kernel=\"rbf\", probability=True))\n",
    "])\n",
    "\n",
    "knn_clf = Pipeline([\n",
    "    (\"scaler\", StandardScaler()),\n",
    "    (\"knn\", KNeighborsClassifier(n_neighbors=5, weights=\"distance\"))\n",
    "])\n",
    "\n",
    "rf_clf = RandomForestClassifier(n_estimators=300, max_depth=None, n_jobs=-1, random_state=42)\n",
    "\n",
    "xgb_clf = XGBClassifier(\n",
    "    n_estimators=400, max_depth=6, learning_rate=0.05, subsample=0.9, colsample_bytree=0.9,\n",
    "    objective=\"multi:softprob\", num_class=num_classes, tree_method=\"hist\", n_jobs=-1, random_state=42\n",
    ")\n",
    "\n",
    "pred_svm = evaluate_classifier(\"SVM (RBF)\", svm_clf, X_train, y_train, X_test, y_test)\n",
    "pred_knn = evaluate_classifier(\"k-NN\",      knn_clf, X_train, y_train, X_test, y_test)\n",
    "pred_rf  = evaluate_classifier(\"RandomForest\", rf_clf, X_train, y_train, X_test, y_test)\n",
    "pred_xgb = evaluate_classifier(\"XGBoost\",     xgb_clf, X_train, y_train, X_test, y_test)\n"
   ]
  },
  {
   "cell_type": "code",
   "execution_count": 16,
   "id": "cb26f0ce",
   "metadata": {
    "execution": {
     "iopub.execute_input": "2025-08-13T04:33:55.930513Z",
     "iopub.status.busy": "2025-08-13T04:33:55.930240Z",
     "iopub.status.idle": "2025-08-13T04:33:58.105553Z",
     "shell.execute_reply": "2025-08-13T04:33:58.104828Z"
    },
    "papermill": {
     "duration": 2.470553,
     "end_time": "2025-08-13T04:33:58.106704",
     "exception": false,
     "start_time": "2025-08-13T04:33:55.636151",
     "status": "completed"
    },
    "tags": []
   },
   "outputs": [
    {
     "name": "stdout",
     "output_type": "stream",
     "text": [
      "\n",
      "SVM (RBF) — AUCs\n",
      "  AUC[Apple___Apple_scab]: 0.9998\n",
      "  AUC[Apple___Black_rot]: 1.0000\n",
      "  AUC[Apple___healthy]: 0.9983\n",
      "  AUC[Blueberry___healthy]: 0.9988\n",
      "  AUC[Cherry_(including_sour)___Powdery_mildew]: 0.9968\n",
      "  AUC[Cherry_(including_sour)___healthy]: 1.0000\n",
      "  AUC[Corn_(maize)___Cercospora_leaf_spot Gray_leaf_spot]: 1.0000\n",
      "  AUC[Corn_(maize)___Common_rust_]: 0.9999\n",
      "  AUC[Corn_(maize)___Northern_Leaf_Blight]: 0.9999\n",
      "  AUC[Corn_(maize)___healthy]: 1.0000\n",
      "  AUC[Grape___Black_rot]: 0.9999\n",
      "  AUC[Grape___Esca_(Black_Measles)]: 0.9999\n",
      "  AUC[Grape___Leaf_blight_(Isariopsis_Leaf_Spot)]: 1.0000\n",
      "  AUC[Grape___healthy]: 1.0000\n",
      "  AUC[Orange___Haunglongbing_(Citrus_greening)]: 0.9995\n",
      "  AUC[Peach___Bacterial_spot]: 0.9994\n",
      "  AUC[Peach___healthy]: 1.0000\n",
      "  AUC[Pepper,_bell___Bacterial_spot]: 0.9997\n",
      "  AUC[Pepper,_bell___healthy]: 0.9999\n",
      "  AUC[Potato___Early_blight]: 1.0000\n",
      "  AUC[Potato___Late_blight]: 0.9998\n",
      "  AUC[Raspberry___healthy]: 1.0000\n",
      "  AUC[Soybean___healthy]: 1.0000\n",
      "  AUC[Squash___Powdery_mildew]: 1.0000\n",
      "  AUC[Strawberry___Leaf_scorch]: 1.0000\n",
      "  AUC[Strawberry___healthy]: 0.9990\n",
      "  AUC[Tomato___Bacterial_spot]: 0.9999\n",
      "  AUC[Tomato___Early_blight]: 0.9996\n",
      "  AUC[Tomato___Late_blight]: 0.9997\n",
      "  AUC[Tomato___Leaf_Mold]: 1.0000\n",
      "  AUC[Tomato___Septoria_leaf_spot]: 0.9999\n",
      "  AUC[Tomato___Spider_mites Two-spotted_spider_mite]: 0.9997\n",
      "  AUC[Tomato___Target_Spot]: 0.9997\n",
      "  AUC[Tomato___Tomato_Yellow_Leaf_Curl_Virus]: 1.0000\n",
      "  AUC[Tomato___Tomato_mosaic_virus]: 1.0000\n",
      "  AUC[Tomato___healthy]: 0.9999\n",
      "  Macro-AUC: 0.9997 | Micro-AUC: 0.9996\n",
      "\n",
      "k-NN — AUCs\n",
      "  AUC[Apple___Apple_scab]: 0.9860\n",
      "  AUC[Apple___Black_rot]: 1.0000\n",
      "  AUC[Apple___healthy]: 0.9883\n",
      "  AUC[Blueberry___healthy]: 0.9994\n",
      "  AUC[Cherry_(including_sour)___Powdery_mildew]: 0.9883\n",
      "  AUC[Cherry_(including_sour)___healthy]: 1.0000\n",
      "  AUC[Corn_(maize)___Cercospora_leaf_spot Gray_leaf_spot]: 0.9998\n",
      "  AUC[Corn_(maize)___Common_rust_]: 1.0000\n",
      "  AUC[Corn_(maize)___Northern_Leaf_Blight]: 0.9998\n",
      "  AUC[Corn_(maize)___healthy]: 1.0000\n",
      "  AUC[Grape___Black_rot]: 1.0000\n",
      "  AUC[Grape___Esca_(Black_Measles)]: 1.0000\n",
      "  AUC[Grape___Leaf_blight_(Isariopsis_Leaf_Spot)]: 1.0000\n",
      "  AUC[Grape___healthy]: 1.0000\n",
      "  AUC[Orange___Haunglongbing_(Citrus_greening)]: 0.9581\n",
      "  AUC[Peach___Bacterial_spot]: 1.0000\n",
      "  AUC[Peach___healthy]: 1.0000\n",
      "  AUC[Pepper,_bell___Bacterial_spot]: 0.9841\n",
      "  AUC[Pepper,_bell___healthy]: 0.9996\n",
      "  AUC[Potato___Early_blight]: 1.0000\n",
      "  AUC[Potato___Late_blight]: 0.9999\n",
      "  AUC[Raspberry___healthy]: 1.0000\n",
      "  AUC[Soybean___healthy]: 0.9998\n",
      "  AUC[Squash___Powdery_mildew]: 1.0000\n",
      "  AUC[Strawberry___Leaf_scorch]: 1.0000\n",
      "  AUC[Strawberry___healthy]: 0.9868\n",
      "  AUC[Tomato___Bacterial_spot]: 0.9999\n",
      "  AUC[Tomato___Early_blight]: 0.9998\n",
      "  AUC[Tomato___Late_blight]: 0.9823\n",
      "  AUC[Tomato___Leaf_Mold]: 1.0000\n",
      "  AUC[Tomato___Septoria_leaf_spot]: 1.0000\n",
      "  AUC[Tomato___Spider_mites Two-spotted_spider_mite]: 0.9999\n",
      "  AUC[Tomato___Target_Spot]: 0.9994\n",
      "  AUC[Tomato___Tomato_Yellow_Leaf_Curl_Virus]: 0.9999\n",
      "  AUC[Tomato___Tomato_mosaic_virus]: 1.0000\n",
      "  AUC[Tomato___healthy]: 0.9868\n",
      "  Macro-AUC: 0.9961 | Micro-AUC: 0.9959\n",
      "\n",
      "RandomForest — AUCs\n",
      "  AUC[Apple___Apple_scab]: 0.9995\n",
      "  AUC[Apple___Black_rot]: 1.0000\n",
      "  AUC[Apple___healthy]: 0.9982\n",
      "  AUC[Blueberry___healthy]: 0.9991\n",
      "  AUC[Cherry_(including_sour)___Powdery_mildew]: 0.9974\n",
      "  AUC[Cherry_(including_sour)___healthy]: 1.0000\n",
      "  AUC[Corn_(maize)___Cercospora_leaf_spot Gray_leaf_spot]: 0.9996\n",
      "  AUC[Corn_(maize)___Common_rust_]: 0.9999\n",
      "  AUC[Corn_(maize)___Northern_Leaf_Blight]: 0.9995\n",
      "  AUC[Corn_(maize)___healthy]: 1.0000\n",
      "  AUC[Grape___Black_rot]: 1.0000\n",
      "  AUC[Grape___Esca_(Black_Measles)]: 0.9998\n",
      "  AUC[Grape___Leaf_blight_(Isariopsis_Leaf_Spot)]: 1.0000\n",
      "  AUC[Grape___healthy]: 0.9999\n",
      "  AUC[Orange___Haunglongbing_(Citrus_greening)]: 0.9986\n",
      "  AUC[Peach___Bacterial_spot]: 0.9992\n",
      "  AUC[Peach___healthy]: 1.0000\n",
      "  AUC[Pepper,_bell___Bacterial_spot]: 0.9996\n",
      "  AUC[Pepper,_bell___healthy]: 0.9999\n",
      "  AUC[Potato___Early_blight]: 1.0000\n",
      "  AUC[Potato___Late_blight]: 0.9980\n",
      "  AUC[Raspberry___healthy]: 1.0000\n",
      "  AUC[Soybean___healthy]: 0.9999\n",
      "  AUC[Squash___Powdery_mildew]: 1.0000\n",
      "  AUC[Strawberry___Leaf_scorch]: 0.9999\n",
      "  AUC[Strawberry___healthy]: 0.9960\n",
      "  AUC[Tomato___Bacterial_spot]: 0.9996\n",
      "  AUC[Tomato___Early_blight]: 0.9991\n",
      "  AUC[Tomato___Late_blight]: 0.9991\n",
      "  AUC[Tomato___Leaf_Mold]: 1.0000\n",
      "  AUC[Tomato___Septoria_leaf_spot]: 0.9998\n",
      "  AUC[Tomato___Spider_mites Two-spotted_spider_mite]: 0.9992\n",
      "  AUC[Tomato___Target_Spot]: 0.9997\n",
      "  AUC[Tomato___Tomato_Yellow_Leaf_Curl_Virus]: 0.9999\n",
      "  AUC[Tomato___Tomato_mosaic_virus]: 1.0000\n",
      "  AUC[Tomato___healthy]: 1.0000\n",
      "  Macro-AUC: 0.9995 | Micro-AUC: 0.9993\n",
      "\n",
      "XGBoost — AUCs\n",
      "  AUC[Apple___Apple_scab]: 0.9997\n",
      "  AUC[Apple___Black_rot]: 1.0000\n",
      "  AUC[Apple___healthy]: 0.9939\n",
      "  AUC[Blueberry___healthy]: 0.9991\n",
      "  AUC[Cherry_(including_sour)___Powdery_mildew]: 0.9939\n",
      "  AUC[Cherry_(including_sour)___healthy]: 1.0000\n",
      "  AUC[Corn_(maize)___Cercospora_leaf_spot Gray_leaf_spot]: 0.9998\n",
      "  AUC[Corn_(maize)___Common_rust_]: 1.0000\n",
      "  AUC[Corn_(maize)___Northern_Leaf_Blight]: 0.9997\n",
      "  AUC[Corn_(maize)___healthy]: 1.0000\n",
      "  AUC[Grape___Black_rot]: 0.9998\n",
      "  AUC[Grape___Esca_(Black_Measles)]: 0.9998\n",
      "  AUC[Grape___Leaf_blight_(Isariopsis_Leaf_Spot)]: 1.0000\n",
      "  AUC[Grape___healthy]: 0.9999\n",
      "  AUC[Orange___Haunglongbing_(Citrus_greening)]: 0.9947\n",
      "  AUC[Peach___Bacterial_spot]: 0.9994\n",
      "  AUC[Peach___healthy]: 1.0000\n",
      "  AUC[Pepper,_bell___Bacterial_spot]: 0.9993\n",
      "  AUC[Pepper,_bell___healthy]: 0.9998\n",
      "  AUC[Potato___Early_blight]: 1.0000\n",
      "  AUC[Potato___Late_blight]: 0.9998\n",
      "  AUC[Raspberry___healthy]: 1.0000\n",
      "  AUC[Soybean___healthy]: 0.9999\n",
      "  AUC[Squash___Powdery_mildew]: 1.0000\n",
      "  AUC[Strawberry___Leaf_scorch]: 0.9999\n",
      "  AUC[Strawberry___healthy]: 0.9989\n",
      "  AUC[Tomato___Bacterial_spot]: 0.9996\n",
      "  AUC[Tomato___Early_blight]: 0.9995\n",
      "  AUC[Tomato___Late_blight]: 0.9993\n",
      "  AUC[Tomato___Leaf_Mold]: 1.0000\n",
      "  AUC[Tomato___Septoria_leaf_spot]: 0.9997\n",
      "  AUC[Tomato___Spider_mites Two-spotted_spider_mite]: 0.9997\n",
      "  AUC[Tomato___Target_Spot]: 0.9999\n",
      "  AUC[Tomato___Tomato_Yellow_Leaf_Curl_Virus]: 1.0000\n",
      "  AUC[Tomato___Tomato_mosaic_virus]: 1.0000\n",
      "  AUC[Tomato___healthy]: 0.9979\n",
      "  Macro-AUC: 0.9992 | Micro-AUC: 0.9991\n"
     ]
    }
   ],
   "source": [
    "# Cell-12B\n",
    "def proba(clf, X):\n",
    "    if hasattr(clf, \"predict_proba\"):\n",
    "        return clf.predict_proba(X)\n",
    "    # Pipeline case: last estimator may have decision_function\n",
    "    if isinstance(clf, Pipeline):\n",
    "        last = clf.steps[-1][1]\n",
    "        if hasattr(last, \"predict_proba\"):\n",
    "            return clf.predict_proba(X)\n",
    "        if hasattr(last, \"decision_function\"):\n",
    "            df = clf.decision_function(X)\n",
    "            import numpy as np\n",
    "            if df.ndim == 1:\n",
    "                df = np.vstack([-df, df]).T\n",
    "            exps = np.exp(df - df.max(axis=1, keepdims=True))\n",
    "            return exps / exps.sum(axis=1, keepdims=True)\n",
    "    raise ValueError(\"Classifier does not provide probabilities/decision function.\")\n",
    "\n",
    "def roc_auc_report(name, clf, X, Y_ovr, class_names):\n",
    "    P = proba(clf, X)  # shape [N, num_classes]\n",
    "    # Per-class AUC\n",
    "    per_class_auc = []\n",
    "    for i in range(Y_ovr.shape[1]):\n",
    "        fpr, tpr, _ = roc_curve(Y_ovr[:, i], P[:, i])\n",
    "        auc_i = roc_auc_score(Y_ovr[:, i], P[:, i])\n",
    "        per_class_auc.append(auc_i)\n",
    "    macro_auc = float(np.mean(per_class_auc))\n",
    "    micro_auc = roc_auc_score(Y_ovr, P, average='micro', multi_class='ovr')\n",
    "    print(f\"\\n{name} — AUCs\")\n",
    "    for i, cls in enumerate(class_names):\n",
    "        print(f\"  AUC[{cls}]: {per_class_auc[i]:.4f}\")\n",
    "    print(f\"  Macro-AUC: {macro_auc:.4f} | Micro-AUC: {micro_auc:.4f}\")\n",
    "\n",
    "# Compute on TEST set\n",
    "roc_auc_report(\"SVM (RBF)\",    svm_clf, X_test, Y_test_ovr, class_names)\n",
    "roc_auc_report(\"k-NN\",         knn_clf, X_test, Y_test_ovr, class_names)\n",
    "roc_auc_report(\"RandomForest\", rf_clf,  X_test, Y_test_ovr, class_names)\n",
    "roc_auc_report(\"XGBoost\",      xgb_clf, X_test, Y_test_ovr, class_names)\n"
   ]
  },
  {
   "cell_type": "code",
   "execution_count": 17,
   "id": "6ed382ee",
   "metadata": {
    "execution": {
     "iopub.execute_input": "2025-08-13T04:33:58.581177Z",
     "iopub.status.busy": "2025-08-13T04:33:58.580548Z",
     "iopub.status.idle": "2025-08-13T04:33:59.641664Z",
     "shell.execute_reply": "2025-08-13T04:33:59.640926Z"
    },
    "papermill": {
     "duration": 1.301168,
     "end_time": "2025-08-13T04:33:59.643240",
     "exception": false,
     "start_time": "2025-08-13T04:33:58.342072",
     "status": "completed"
    },
    "tags": []
   },
   "outputs": [
    {
     "data": {
      "image/png": "[encoded data removed]",
      "text/plain": [
       "<Figure size 640x480 with 1 Axes>"
      ]
     },
     "metadata": {},
     "output_type": "display_data"
    },
    {
     "data": {
      "image/png": "[encoded data removed]",
      "text/plain": [
       "<Figure size 640x480 with 1 Axes>"
      ]
     },
     "metadata": {},
     "output_type": "display_data"
    }
   ],
   "source": [
    "# Cell-13\n",
    "# Plotting loss curves\n",
    "plt.plot(train_losses, label='Train Loss')\n",
    "plt.plot(val_losses, label='Validation Loss')\n",
    "plt.xlabel('Epoch')\n",
    "plt.ylabel('Loss')\n",
    "plt.legend()\n",
    "plt.title(\"Training and Validation Loss for CustomCNN\")\n",
    "plt.show()\n",
    "\n",
    "# Optional: plot OvR ROC (example for XGBoost)\n",
    "try:\n",
    "    P = proba(xgb_clf, X_test)\n",
    "    for i, cls in enumerate(class_names):\n",
    "        fpr, tpr, _ = roc_curve(Y_test_ovr[:, i], P[:, i])\n",
    "        plt.plot(fpr, tpr, label=f\"{cls}\")\n",
    "    plt.plot([0,1], [0,1], linestyle=\"--\")\n",
    "    plt.xlabel(\"False Positive Rate\"); plt.ylabel(\"True Positive Rate\")\n",
    "    plt.title(\"ROC Curves (OvR) — XGBoost on Test\")\n",
    "    plt.legend(ncol=2, fontsize=8)\n",
    "    plt.show()\n",
    "except Exception as e:\n",
    "    print(\"ROC plot skipped:\", e)\n"
   ]
  }
 ],
 "metadata": {
  "kaggle": {
   "accelerator": "gpu",
   "dataSources": [
    {
     "databundleVersionId": 677630,
     "datasetId": 277323,
     "isSourceIdPinned": false,
     "sourceId": 658267,
     "sourceType": "datasetVersion"
    }
   ],
   "dockerImageVersionId": 31090,
   "isGpuEnabled": true,
   "isInternetEnabled": true,
   "language": "python",
   "sourceType": "notebook"
  },
  "kernelspec": {
   "display_name": "Python 3",
   "language": "python",
   "name": "python3"
  },
  "language_info": {
   "codemirror_mode": {
    "name": "ipython",
    "version": 3
   },
   "file_extension": ".py",
   "mimetype": "text/x-python",
   "name": "python",
   "nbconvert_exporter": "python",
   "pygments_lexer": "ipython3",
   "version": "3.11.13"
  },
  "papermill": {
   "default_parameters": {},
   "duration": 1423.780654,
   "end_time": "2025-08-13T04:34:01.711017",
   "environment_variables": {},
   "exception": null,
   "input_path": "__notebook__.ipynb",
   "output_path": "__notebook__.ipynb",
   "parameters": {},
   "start_time": "2025-08-13T04:10:17.930363",
   "version": "2.6.0"
  }
 },
 "nbformat": 4,
 "nbformat_minor": 5
}
